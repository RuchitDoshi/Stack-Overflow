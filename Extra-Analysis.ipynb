{
 "cells": [
  {
   "cell_type": "code",
   "execution_count": 1,
   "metadata": {},
   "outputs": [],
   "source": [
    "import numpy as np\n",
    "import pandas as pd\n",
    "import matplotlib.pyplot as plt\n",
    "from IPython import display\n",
    "import seaborn as sns\n",
    "from collections import defaultdict\n",
    "%matplotlib inline"
   ]
  },
  {
   "cell_type": "code",
   "execution_count": 2,
   "metadata": {},
   "outputs": [
    {
     "name": "stderr",
     "output_type": "stream",
     "text": [
      "C:\\Software\\lib\\site-packages\\IPython\\core\\interactiveshell.py:3058: DtypeWarning: Columns (8,12,13,14,15,16,50,51,52,53,55,56,57,58,59,60,61,62,63,64,65,66,67,68,69,70,71,72,73,74,75,76,77,78,79,80,81,82,83,84,85,93,94,95,96,97,98,99,100,101,102,103,104,105,106,107,108,109,110,111,112,113,114,115,116,117,118,119,120,121,122,123,124,125,126,127,128) have mixed types. Specify dtype option on import or set low_memory=False.\n",
      "  interactivity=interactivity, compiler=compiler, result=result)\n"
     ]
    }
   ],
   "source": [
    "df=pd.read_csv('developer_survey_2018/survey_results_public_2018.csv')"
   ]
  },
  {
   "cell_type": "code",
   "execution_count": 7,
   "metadata": {},
   "outputs": [
    {
     "name": "stdout",
     "output_type": "stream",
     "text": [
      "(67146, 129)\n"
     ]
    }
   ],
   "source": [
    "stack=df[df['StackOverflowHasAccount']=='Yes']\n",
    "print(account.shape)"
   ]
  },
  {
   "cell_type": "code",
   "execution_count": 8,
   "metadata": {},
   "outputs": [
    {
     "data": {
      "text/plain": [
       "Less than once per month or monthly                   25778\n",
       "A few times per month or weekly                       14866\n",
       "I have never participated in Q&A on Stack Overflow    11393\n",
       "A few times per week                                   7665\n",
       "Daily or almost daily                                  3908\n",
       "Multiple times per day                                 2130\n",
       "Name: StackOverflowParticipate, dtype: int64"
      ]
     },
     "execution_count": 8,
     "metadata": {},
     "output_type": "execute_result"
    }
   ],
   "source": [
    "stack['StackOverflowParticipate'].value_counts()"
   ]
  },
  {
   "cell_type": "code",
   "execution_count": 9,
   "metadata": {},
   "outputs": [
    {
     "data": {
      "text/plain": [
       "Yes                                                                                  36521\n",
       "No, I knew that Stack Overflow had a jobs board but have never used or visited it    22722\n",
       "No, I didn't know that Stack Overflow had a jobs board                                6435\n",
       "Name: StackOverflowJobs, dtype: int64"
      ]
     },
     "execution_count": 9,
     "metadata": {},
     "output_type": "execute_result"
    }
   ],
   "source": [
    "stack['StackOverflowJobs'].value_counts()"
   ]
  },
  {
   "cell_type": "code",
   "execution_count": 10,
   "metadata": {},
   "outputs": [
    {
     "data": {
      "text/plain": [
       "10 (Very Likely)    9747\n",
       "5                   5548\n",
       "7                   5083\n",
       "8                   4872\n",
       "6                   3558\n",
       "9                   2563\n",
       "3                   1213\n",
       "0 (Not Likely)      1155\n",
       "4                   1087\n",
       "2                    973\n",
       "1                    350\n",
       "Name: StackOverflowJobsRecommend, dtype: int64"
      ]
     },
     "execution_count": 10,
     "metadata": {},
     "output_type": "execute_result"
    }
   ],
   "source": [
    "stack['StackOverflowJobsRecommend'].value_counts()"
   ]
  },
  {
   "cell_type": "code",
   "execution_count": 11,
   "metadata": {},
   "outputs": [
    {
     "data": {
      "text/plain": [
       "<matplotlib.axes._subplots.AxesSubplot at 0x1e84b37ff08>"
      ]
     },
     "execution_count": 11,
     "metadata": {},
     "output_type": "execute_result"
    },
    {
     "data": {
      "image/png": "[encoded data removed]",
      "text/plain": [
       "<Figure size 432x288 with 1 Axes>"
      ]
     },
     "metadata": {
      "needs_background": "light"
     },
     "output_type": "display_data"
    }
   ],
   "source": [
    "stack['Age'].value_counts().plot(kind='bar')"
   ]
  },
  {
   "cell_type": "markdown",
   "metadata": {},
   "source": [
    "This shows the diversity of the Users of Stack Overflow in terms of Age."
   ]
  },
  {
   "cell_type": "code",
   "execution_count": 12,
   "metadata": {},
   "outputs": [
    {
     "name": "stdout",
     "output_type": "stream",
     "text": [
      "(10966, 129)\n"
     ]
    },
    {
     "data": {
      "text/plain": [
       "Moderately satisfied                  3437\n",
       "Extremely satisfied                   1673\n",
       "Slightly satisfied                    1351\n",
       "Slightly dissatisfied                  968\n",
       "Moderately dissatisfied                956\n",
       "Neither satisfied nor dissatisfied     655\n",
       "Extremely dissatisfied                 391\n",
       "Name: JobSatisfaction, dtype: int64"
      ]
     },
     "execution_count": 12,
     "metadata": {},
     "output_type": "execute_result"
    }
   ],
   "source": [
    "temp=stack[stack['StackOverflowDevStory']=='Yes']\n",
    "print(temp.shape)\n",
    "temp['JobSatisfaction'].value_counts()"
   ]
  },
  {
   "cell_type": "code",
   "execution_count": 13,
   "metadata": {},
   "outputs": [
    {
     "data": {
      "text/plain": [
       "No                50917\n",
       "Yes, full-time    11229\n",
       "Yes, part-time     3973\n",
       "Name: Student, dtype: int64"
      ]
     },
     "execution_count": 13,
     "metadata": {},
     "output_type": "execute_result"
    }
   ],
   "source": [
    "stack['Student'].value_counts()"
   ]
  },
  {
   "cell_type": "code",
   "execution_count": 14,
   "metadata": {},
   "outputs": [
    {
     "data": {
      "text/plain": [
       "3-5 years           16640\n",
       "0-2 years           16238\n",
       "6-8 years            9266\n",
       "9-11 years           6160\n",
       "12-14 years          3534\n",
       "15-17 years          2486\n",
       "18-20 years          2300\n",
       "21-23 years          1097\n",
       "30 or more years      972\n",
       "24-26 years           699\n",
       "27-29 years           410\n",
       "Name: YearsCodingProf, dtype: int64"
      ]
     },
     "execution_count": 14,
     "metadata": {},
     "output_type": "execute_result"
    }
   ],
   "source": [
    "stack['YearsCodingProf'].value_counts()"
   ]
  },
  {
   "cell_type": "code",
   "execution_count": 16,
   "metadata": {},
   "outputs": [
    {
     "data": {
      "text/html": [
       "<div>\n",
       "<style scoped>\n",
       "    .dataframe tbody tr th:only-of-type {\n",
       "        vertical-align: middle;\n",
       "    }\n",
       "\n",
       "    .dataframe tbody tr th {\n",
       "        vertical-align: top;\n",
       "    }\n",
       "\n",
       "    .dataframe thead th {\n",
       "        text-align: right;\n",
       "    }\n",
       "</style>\n",
       "<table border=\"1\" class=\"dataframe\">\n",
       "  <thead>\n",
       "    <tr style=\"text-align: right;\">\n",
       "      <th></th>\n",
       "      <th>Respondent</th>\n",
       "      <th>AssessJob1</th>\n",
       "      <th>AssessJob2</th>\n",
       "      <th>AssessJob3</th>\n",
       "      <th>AssessJob4</th>\n",
       "      <th>AssessJob5</th>\n",
       "      <th>AssessJob6</th>\n",
       "      <th>AssessJob7</th>\n",
       "      <th>AssessJob8</th>\n",
       "      <th>AssessJob9</th>\n",
       "      <th>...</th>\n",
       "      <th>JobEmailPriorities6</th>\n",
       "      <th>JobEmailPriorities7</th>\n",
       "      <th>ConvertedSalary</th>\n",
       "      <th>AdsPriorities1</th>\n",
       "      <th>AdsPriorities2</th>\n",
       "      <th>AdsPriorities3</th>\n",
       "      <th>AdsPriorities4</th>\n",
       "      <th>AdsPriorities5</th>\n",
       "      <th>AdsPriorities6</th>\n",
       "      <th>AdsPriorities7</th>\n",
       "    </tr>\n",
       "    <tr>\n",
       "      <th>YearsCodingProf</th>\n",
       "      <th></th>\n",
       "      <th></th>\n",
       "      <th></th>\n",
       "      <th></th>\n",
       "      <th></th>\n",
       "      <th></th>\n",
       "      <th></th>\n",
       "      <th></th>\n",
       "      <th></th>\n",
       "      <th></th>\n",
       "      <th></th>\n",
       "      <th></th>\n",
       "      <th></th>\n",
       "      <th></th>\n",
       "      <th></th>\n",
       "      <th></th>\n",
       "      <th></th>\n",
       "      <th></th>\n",
       "      <th></th>\n",
       "      <th></th>\n",
       "      <th></th>\n",
       "    </tr>\n",
       "  </thead>\n",
       "  <tbody>\n",
       "    <tr>\n",
       "      <td>0-2 years</td>\n",
       "      <td>50749.928994</td>\n",
       "      <td>5.952106</td>\n",
       "      <td>6.719890</td>\n",
       "      <td>5.784195</td>\n",
       "      <td>4.040076</td>\n",
       "      <td>4.448443</td>\n",
       "      <td>4.428370</td>\n",
       "      <td>6.104522</td>\n",
       "      <td>3.958093</td>\n",
       "      <td>7.528032</td>\n",
       "      <td>...</td>\n",
       "      <td>4.710625</td>\n",
       "      <td>4.806603</td>\n",
       "      <td>57236.472449</td>\n",
       "      <td>2.831135</td>\n",
       "      <td>3.854451</td>\n",
       "      <td>3.381143</td>\n",
       "      <td>3.703564</td>\n",
       "      <td>4.253336</td>\n",
       "      <td>5.014837</td>\n",
       "      <td>4.961532</td>\n",
       "    </tr>\n",
       "    <tr>\n",
       "      <td>12-14 years</td>\n",
       "      <td>51571.552066</td>\n",
       "      <td>6.881479</td>\n",
       "      <td>6.713853</td>\n",
       "      <td>6.076993</td>\n",
       "      <td>4.070021</td>\n",
       "      <td>3.436799</td>\n",
       "      <td>4.386784</td>\n",
       "      <td>5.085480</td>\n",
       "      <td>4.472871</td>\n",
       "      <td>7.812671</td>\n",
       "      <td>...</td>\n",
       "      <td>5.257408</td>\n",
       "      <td>4.903140</td>\n",
       "      <td>120607.143729</td>\n",
       "      <td>2.536594</td>\n",
       "      <td>3.775308</td>\n",
       "      <td>3.311902</td>\n",
       "      <td>3.887483</td>\n",
       "      <td>4.510602</td>\n",
       "      <td>5.259918</td>\n",
       "      <td>4.718194</td>\n",
       "    </tr>\n",
       "    <tr>\n",
       "      <td>15-17 years</td>\n",
       "      <td>50748.270314</td>\n",
       "      <td>6.944325</td>\n",
       "      <td>6.682348</td>\n",
       "      <td>6.066897</td>\n",
       "      <td>3.988779</td>\n",
       "      <td>3.357359</td>\n",
       "      <td>4.426845</td>\n",
       "      <td>4.881312</td>\n",
       "      <td>4.759171</td>\n",
       "      <td>7.746655</td>\n",
       "      <td>...</td>\n",
       "      <td>5.384224</td>\n",
       "      <td>4.895038</td>\n",
       "      <td>142530.457297</td>\n",
       "      <td>2.472316</td>\n",
       "      <td>3.763120</td>\n",
       "      <td>3.238325</td>\n",
       "      <td>3.954742</td>\n",
       "      <td>4.480982</td>\n",
       "      <td>5.309581</td>\n",
       "      <td>4.780934</td>\n",
       "    </tr>\n",
       "    <tr>\n",
       "      <td>18-20 years</td>\n",
       "      <td>50685.427826</td>\n",
       "      <td>6.934259</td>\n",
       "      <td>6.583333</td>\n",
       "      <td>5.954630</td>\n",
       "      <td>4.033796</td>\n",
       "      <td>3.435648</td>\n",
       "      <td>4.431944</td>\n",
       "      <td>4.937963</td>\n",
       "      <td>4.889815</td>\n",
       "      <td>7.743981</td>\n",
       "      <td>...</td>\n",
       "      <td>5.517450</td>\n",
       "      <td>4.942953</td>\n",
       "      <td>145076.314568</td>\n",
       "      <td>2.341388</td>\n",
       "      <td>3.664267</td>\n",
       "      <td>3.246272</td>\n",
       "      <td>4.114139</td>\n",
       "      <td>4.564010</td>\n",
       "      <td>5.364010</td>\n",
       "      <td>4.705913</td>\n",
       "    </tr>\n",
       "    <tr>\n",
       "      <td>21-23 years</td>\n",
       "      <td>50904.641750</td>\n",
       "      <td>7.008780</td>\n",
       "      <td>6.421463</td>\n",
       "      <td>5.991220</td>\n",
       "      <td>3.945366</td>\n",
       "      <td>3.355122</td>\n",
       "      <td>4.363902</td>\n",
       "      <td>4.913171</td>\n",
       "      <td>5.177561</td>\n",
       "      <td>7.692683</td>\n",
       "      <td>...</td>\n",
       "      <td>5.534582</td>\n",
       "      <td>4.881844</td>\n",
       "      <td>149443.819108</td>\n",
       "      <td>2.381156</td>\n",
       "      <td>3.614561</td>\n",
       "      <td>3.178801</td>\n",
       "      <td>4.036403</td>\n",
       "      <td>4.705567</td>\n",
       "      <td>5.402570</td>\n",
       "      <td>4.680942</td>\n",
       "    </tr>\n",
       "    <tr>\n",
       "      <td>24-26 years</td>\n",
       "      <td>51827.941345</td>\n",
       "      <td>7.010654</td>\n",
       "      <td>6.547945</td>\n",
       "      <td>5.878234</td>\n",
       "      <td>3.890411</td>\n",
       "      <td>3.570776</td>\n",
       "      <td>4.385084</td>\n",
       "      <td>4.678843</td>\n",
       "      <td>5.135464</td>\n",
       "      <td>7.762557</td>\n",
       "      <td>...</td>\n",
       "      <td>5.651899</td>\n",
       "      <td>4.797468</td>\n",
       "      <td>168813.917671</td>\n",
       "      <td>2.234589</td>\n",
       "      <td>3.647260</td>\n",
       "      <td>3.099315</td>\n",
       "      <td>4.231164</td>\n",
       "      <td>4.691781</td>\n",
       "      <td>5.318493</td>\n",
       "      <td>4.777397</td>\n",
       "    </tr>\n",
       "    <tr>\n",
       "      <td>27-29 years</td>\n",
       "      <td>51582.790244</td>\n",
       "      <td>7.058201</td>\n",
       "      <td>6.349206</td>\n",
       "      <td>5.976190</td>\n",
       "      <td>3.883598</td>\n",
       "      <td>3.423280</td>\n",
       "      <td>4.317460</td>\n",
       "      <td>4.682540</td>\n",
       "      <td>5.447090</td>\n",
       "      <td>7.767196</td>\n",
       "      <td>...</td>\n",
       "      <td>5.656716</td>\n",
       "      <td>4.884328</td>\n",
       "      <td>179742.120275</td>\n",
       "      <td>2.497076</td>\n",
       "      <td>3.725146</td>\n",
       "      <td>2.891813</td>\n",
       "      <td>4.251462</td>\n",
       "      <td>4.622807</td>\n",
       "      <td>5.318713</td>\n",
       "      <td>4.692982</td>\n",
       "    </tr>\n",
       "    <tr>\n",
       "      <td>3-5 years</td>\n",
       "      <td>51002.994712</td>\n",
       "      <td>6.435322</td>\n",
       "      <td>6.697627</td>\n",
       "      <td>5.957288</td>\n",
       "      <td>3.974576</td>\n",
       "      <td>3.936678</td>\n",
       "      <td>4.374034</td>\n",
       "      <td>5.877763</td>\n",
       "      <td>4.017831</td>\n",
       "      <td>7.710508</td>\n",
       "      <td>...</td>\n",
       "      <td>4.959226</td>\n",
       "      <td>4.810260</td>\n",
       "      <td>82348.333739</td>\n",
       "      <td>2.742640</td>\n",
       "      <td>3.836690</td>\n",
       "      <td>3.390688</td>\n",
       "      <td>3.688333</td>\n",
       "      <td>4.335141</td>\n",
       "      <td>5.158274</td>\n",
       "      <td>4.848234</td>\n",
       "    </tr>\n",
       "    <tr>\n",
       "      <td>30 or more years</td>\n",
       "      <td>50316.304527</td>\n",
       "      <td>6.648803</td>\n",
       "      <td>6.557583</td>\n",
       "      <td>5.657925</td>\n",
       "      <td>3.786773</td>\n",
       "      <td>3.766249</td>\n",
       "      <td>4.339795</td>\n",
       "      <td>4.783352</td>\n",
       "      <td>5.543900</td>\n",
       "      <td>7.657925</td>\n",
       "      <td>...</td>\n",
       "      <td>5.574913</td>\n",
       "      <td>4.745645</td>\n",
       "      <td>169860.349840</td>\n",
       "      <td>2.402760</td>\n",
       "      <td>3.872020</td>\n",
       "      <td>2.989962</td>\n",
       "      <td>4.278545</td>\n",
       "      <td>4.578419</td>\n",
       "      <td>5.277290</td>\n",
       "      <td>4.601004</td>\n",
       "    </tr>\n",
       "    <tr>\n",
       "      <td>6-8 years</td>\n",
       "      <td>50769.709907</td>\n",
       "      <td>6.701191</td>\n",
       "      <td>6.678576</td>\n",
       "      <td>6.070733</td>\n",
       "      <td>4.008781</td>\n",
       "      <td>3.645856</td>\n",
       "      <td>4.407434</td>\n",
       "      <td>5.522916</td>\n",
       "      <td>4.176471</td>\n",
       "      <td>7.753037</td>\n",
       "      <td>...</td>\n",
       "      <td>5.039685</td>\n",
       "      <td>4.867602</td>\n",
       "      <td>101510.077073</td>\n",
       "      <td>2.661262</td>\n",
       "      <td>3.773533</td>\n",
       "      <td>3.403875</td>\n",
       "      <td>3.793184</td>\n",
       "      <td>4.430397</td>\n",
       "      <td>5.184004</td>\n",
       "      <td>4.753745</td>\n",
       "    </tr>\n",
       "    <tr>\n",
       "      <td>9-11 years</td>\n",
       "      <td>50563.450487</td>\n",
       "      <td>6.761392</td>\n",
       "      <td>6.774108</td>\n",
       "      <td>6.074709</td>\n",
       "      <td>4.060403</td>\n",
       "      <td>3.506711</td>\n",
       "      <td>4.374779</td>\n",
       "      <td>5.230307</td>\n",
       "      <td>4.361533</td>\n",
       "      <td>7.839279</td>\n",
       "      <td>...</td>\n",
       "      <td>5.191886</td>\n",
       "      <td>4.860679</td>\n",
       "      <td>117596.718676</td>\n",
       "      <td>2.582499</td>\n",
       "      <td>3.746296</td>\n",
       "      <td>3.325190</td>\n",
       "      <td>3.851822</td>\n",
       "      <td>4.529235</td>\n",
       "      <td>5.225270</td>\n",
       "      <td>4.739688</td>\n",
       "    </tr>\n",
       "  </tbody>\n",
       "</table>\n",
       "<p>11 rows × 42 columns</p>\n",
       "</div>"
      ],
      "text/plain": [
       "                    Respondent  AssessJob1  AssessJob2  AssessJob3  \\\n",
       "YearsCodingProf                                                      \n",
       "0-2 years         50749.928994    5.952106    6.719890    5.784195   \n",
       "12-14 years       51571.552066    6.881479    6.713853    6.076993   \n",
       "15-17 years       50748.270314    6.944325    6.682348    6.066897   \n",
       "18-20 years       50685.427826    6.934259    6.583333    5.954630   \n",
       "21-23 years       50904.641750    7.008780    6.421463    5.991220   \n",
       "24-26 years       51827.941345    7.010654    6.547945    5.878234   \n",
       "27-29 years       51582.790244    7.058201    6.349206    5.976190   \n",
       "3-5 years         51002.994712    6.435322    6.697627    5.957288   \n",
       "30 or more years  50316.304527    6.648803    6.557583    5.657925   \n",
       "6-8 years         50769.709907    6.701191    6.678576    6.070733   \n",
       "9-11 years        50563.450487    6.761392    6.774108    6.074709   \n",
       "\n",
       "                  AssessJob4  AssessJob5  AssessJob6  AssessJob7  AssessJob8  \\\n",
       "YearsCodingProf                                                                \n",
       "0-2 years           4.040076    4.448443    4.428370    6.104522    3.958093   \n",
       "12-14 years         4.070021    3.436799    4.386784    5.085480    4.472871   \n",
       "15-17 years         3.988779    3.357359    4.426845    4.881312    4.759171   \n",
       "18-20 years         4.033796    3.435648    4.431944    4.937963    4.889815   \n",
       "21-23 years         3.945366    3.355122    4.363902    4.913171    5.177561   \n",
       "24-26 years         3.890411    3.570776    4.385084    4.678843    5.135464   \n",
       "27-29 years         3.883598    3.423280    4.317460    4.682540    5.447090   \n",
       "3-5 years           3.974576    3.936678    4.374034    5.877763    4.017831   \n",
       "30 or more years    3.786773    3.766249    4.339795    4.783352    5.543900   \n",
       "6-8 years           4.008781    3.645856    4.407434    5.522916    4.176471   \n",
       "9-11 years          4.060403    3.506711    4.374779    5.230307    4.361533   \n",
       "\n",
       "                  AssessJob9  ...  JobEmailPriorities6  JobEmailPriorities7  \\\n",
       "YearsCodingProf               ...                                             \n",
       "0-2 years           7.528032  ...             4.710625             4.806603   \n",
       "12-14 years         7.812671  ...             5.257408             4.903140   \n",
       "15-17 years         7.746655  ...             5.384224             4.895038   \n",
       "18-20 years         7.743981  ...             5.517450             4.942953   \n",
       "21-23 years         7.692683  ...             5.534582             4.881844   \n",
       "24-26 years         7.762557  ...             5.651899             4.797468   \n",
       "27-29 years         7.767196  ...             5.656716             4.884328   \n",
       "3-5 years           7.710508  ...             4.959226             4.810260   \n",
       "30 or more years    7.657925  ...             5.574913             4.745645   \n",
       "6-8 years           7.753037  ...             5.039685             4.867602   \n",
       "9-11 years          7.839279  ...             5.191886             4.860679   \n",
       "\n",
       "                  ConvertedSalary  AdsPriorities1  AdsPriorities2  \\\n",
       "YearsCodingProf                                                     \n",
       "0-2 years            57236.472449        2.831135        3.854451   \n",
       "12-14 years         120607.143729        2.536594        3.775308   \n",
       "15-17 years         142530.457297        2.472316        3.763120   \n",
       "18-20 years         145076.314568        2.341388        3.664267   \n",
       "21-23 years         149443.819108        2.381156        3.614561   \n",
       "24-26 years         168813.917671        2.234589        3.647260   \n",
       "27-29 years         179742.120275        2.497076        3.725146   \n",
       "3-5 years            82348.333739        2.742640        3.836690   \n",
       "30 or more years    169860.349840        2.402760        3.872020   \n",
       "6-8 years           101510.077073        2.661262        3.773533   \n",
       "9-11 years          117596.718676        2.582499        3.746296   \n",
       "\n",
       "                  AdsPriorities3  AdsPriorities4  AdsPriorities5  \\\n",
       "YearsCodingProf                                                    \n",
       "0-2 years               3.381143        3.703564        4.253336   \n",
       "12-14 years             3.311902        3.887483        4.510602   \n",
       "15-17 years             3.238325        3.954742        4.480982   \n",
       "18-20 years             3.246272        4.114139        4.564010   \n",
       "21-23 years             3.178801        4.036403        4.705567   \n",
       "24-26 years             3.099315        4.231164        4.691781   \n",
       "27-29 years             2.891813        4.251462        4.622807   \n",
       "3-5 years               3.390688        3.688333        4.335141   \n",
       "30 or more years        2.989962        4.278545        4.578419   \n",
       "6-8 years               3.403875        3.793184        4.430397   \n",
       "9-11 years              3.325190        3.851822        4.529235   \n",
       "\n",
       "                  AdsPriorities6  AdsPriorities7  \n",
       "YearsCodingProf                                   \n",
       "0-2 years               5.014837        4.961532  \n",
       "12-14 years             5.259918        4.718194  \n",
       "15-17 years             5.309581        4.780934  \n",
       "18-20 years             5.364010        4.705913  \n",
       "21-23 years             5.402570        4.680942  \n",
       "24-26 years             5.318493        4.777397  \n",
       "27-29 years             5.318713        4.692982  \n",
       "3-5 years               5.158274        4.848234  \n",
       "30 or more years        5.277290        4.601004  \n",
       "6-8 years               5.184004        4.753745  \n",
       "9-11 years              5.225270        4.739688  \n",
       "\n",
       "[11 rows x 42 columns]"
      ]
     },
     "execution_count": 16,
     "metadata": {},
     "output_type": "execute_result"
    }
   ],
   "source": [
    "stack.groupby(['YearsCodingProf']).mean()"
   ]
  },
  {
   "cell_type": "code",
   "execution_count": null,
   "metadata": {},
   "outputs": [],
   "source": []
  }
 ],
 "metadata": {
  "kernelspec": {
   "display_name": "Python 3",
   "language": "python",
   "name": "python3"
  },
  "language_info": {
   "codemirror_mode": {
    "name": "ipython",
    "version": 3
   },
   "file_extension": ".py",
   "mimetype": "text/x-python",
   "name": "python",
   "nbconvert_exporter": "python",
   "pygments_lexer": "ipython3",
   "version": "3.7.4"
  }
 },
 "nbformat": 4,
 "nbformat_minor": 2
}
